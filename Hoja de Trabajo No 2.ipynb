{
 "cells": [
  {
   "attachments": {},
   "cell_type": "markdown",
   "metadata": {},
   "source": [
    "###### Maestría Inteligencia de Negocios y Análisis de Datos\n",
    "###### Curso: Ciencia de Datos en Python\n",
    "###### Alumno: 22008375- Leonel Eduardo Contreras\n",
    "###### Sección L"
   ]
  },
  {
   "attachments": {},
   "cell_type": "markdown",
   "metadata": {},
   "source": [
    "### **Hoja de Trabajo # 2 - Sintaxis y Estructuras de Datos**"
   ]
  },
  {
   "attachments": {},
   "cell_type": "markdown",
   "metadata": {},
   "source": [
    "#### *Programa 1*"
   ]
  },
  {
   "cell_type": "code",
   "execution_count": 20,
   "metadata": {},
   "outputs": [
    {
     "name": "stdout",
     "output_type": "stream",
     "text": [
      "Horas: 1,Minutos: 37 ,Segundos: 51\n"
     ]
    }
   ],
   "source": [
    "while True:\n",
    "    try:\n",
    "        numero=int(input(\"Ingrese un número de segundos:\"))\n",
    "\n",
    "        Horas=numero//3600\n",
    "        Minutos= int(((numero/3600)-Horas)*60)\n",
    "        Segundos= round(((((numero/3600)-Horas)*60)-Minutos)*60)\n",
    "        print(\"Horas: {},Minutos: {} ,Segundos: {}\".format(Horas,Minutos,Segundos))\n",
    "        break\n",
    "    except ValueError:\n",
    "        print(\"¡No es un número válido¡ Intenta ingresar enteros\")\n"
   ]
  },
  {
   "attachments": {},
   "cell_type": "markdown",
   "metadata": {},
   "source": [
    "#### *Programa 2*"
   ]
  },
  {
   "cell_type": "code",
   "execution_count": 23,
   "metadata": {},
   "outputs": [
    {
     "name": "stdout",
     "output_type": "stream",
     "text": [
      "*      ****      ****      *\n",
      "**      ***      ***      **\n",
      "***      **      **      ***\n",
      "****      *      *      ****\n"
     ]
    }
   ],
   "source": [
    "number=int(input(\"Ingrese un número entre 1 y 20:\"))\n",
    "caracter=input(\"Ingrese un carácter:\")\n",
    "\n",
    "def patron_triangulo(num,carac):\n",
    "\n",
    "    if(num>=1)and(num<=20):\n",
    "        inicio=1\n",
    "        repeticion=num\n",
    "        while(inicio<=num):\n",
    "        \n",
    "            print(carac*inicio,\"    \",carac*repeticion,\"    \",carac*repeticion,\"    \",carac*inicio)\n",
    "            inicio=inicio+1\n",
    "            repeticion=repeticion-1\n",
    "\n",
    "    else:\n",
    "        print(\"Tiene que ingresar un número entre 1 y 20\")\n",
    "\n",
    "patron_triangulo(number,caracter)\n",
    "\n",
    "    "
   ]
  },
  {
   "attachments": {},
   "cell_type": "markdown",
   "metadata": {},
   "source": [
    "#### *Programa 3*"
   ]
  },
  {
   "cell_type": "code",
   "execution_count": 36,
   "metadata": {},
   "outputs": [
    {
     "name": "stdout",
     "output_type": "stream",
     "text": [
      "Tienes  34  años con  0  meses y  29  días.\n"
     ]
    }
   ],
   "source": [
    "from datetime import datetime\n",
    "\n",
    "actual = datetime.today()\n",
    "\n",
    "año_actual=actual.year\n",
    "mes_actual=actual.month\n",
    "dia_actual=actual.day\n",
    "\n",
    "\n",
    "\n",
    "año=int(input(\"Ingrese el año de su nacimiento:\"))\n",
    "mes=int(input(\"Ingrese el mes de su nacimiento:\"))\n",
    "dia=int(input(\"Ingrese el dia de su nacimiento:\"))\n",
    "\n",
    "## Calcular edad en años\n",
    "if(mes>mes_actual):\n",
    "    edad_año=año_actual-año-1\n",
    "else:\n",
    "    edad_año=año_actual-año\n",
    "\n",
    " ## Calcular edad en meses\n",
    "if(mes>mes_actual) and (dia>dia_actual):\n",
    "    edad_mes=12-mes+mes_actual-1\n",
    "elif (mes>mes_actual)and(dia<dia_actual):\n",
    "    edad_mes=12-mes+mes_actual\n",
    "elif (mes<mes_actual)and(dia>dia_actual):\n",
    "    edad_mes=mes_actual-mes-1\n",
    "else:\n",
    "    edad_mes=mes_actual-mes\n",
    "\n",
    "## Calcular edad en dias\n",
    "if(dia>dia_actual):\n",
    "    edad_dia=30-dia+dia_actual\n",
    "else:\n",
    "    edad_dia=dia_actual-dia\n",
    "\n",
    "print(\"Tienes \",edad_año,\" años con \", edad_mes,\" meses y \",edad_dia,\" días.\")\n",
    "   \n",
    "\n"
   ]
  },
  {
   "attachments": {},
   "cell_type": "markdown",
   "metadata": {},
   "source": [
    "#### *Programa 4*"
   ]
  },
  {
   "cell_type": "code",
   "execution_count": 38,
   "metadata": {},
   "outputs": [
    {
     "name": "stdout",
     "output_type": "stream",
     "text": [
      "102040570\n"
     ]
    }
   ],
   "source": [
    "tupla=(10,20,40,5,70)\n",
    "\n",
    "\n",
    "def convert_tupla(x):\n",
    "    string=''\n",
    "    for value in x:\n",
    "        string=string+str(value)\n",
    "    \n",
    "    print(string)   \n",
    "\n",
    "convert_tupla(tupla)"
   ]
  },
  {
   "attachments": {},
   "cell_type": "markdown",
   "metadata": {},
   "source": [
    "#### *Programa 5*"
   ]
  },
  {
   "cell_type": "code",
   "execution_count": 39,
   "metadata": {},
   "outputs": [
    {
     "name": "stdout",
     "output_type": "stream",
     "text": [
      "[('X',), ('a', 'b'), ('a', 'b', 'c'), 'd']\n"
     ]
    }
   ],
   "source": [
    "lista=[(),(),('X',),('a','b'),('a','b','c'),('d')]\n",
    "\n",
    "for index,value in enumerate(lista):\n",
    "   \n",
    "    if (len(lista[index]))==0 and value==():\n",
    "      \n",
    "      del (lista[index])\n",
    "      lista.remove(())\n",
    "      \n",
    "print(lista)\n",
    "\n",
    "\n"
   ]
  },
  {
   "attachments": {},
   "cell_type": "markdown",
   "metadata": {},
   "source": [
    "#### *Programa 6*"
   ]
  },
  {
   "cell_type": "code",
   "execution_count": 40,
   "metadata": {},
   "outputs": [
    {
     "name": "stdout",
     "output_type": "stream",
     "text": [
      "(10.5, 44.0, 58.0)\n"
     ]
    }
   ],
   "source": [
    "import numpy as np\n",
    "\n",
    "ejercicio6=((10,10,10,12),(30,45,56,45),(81,80,39,32))\n",
    "\n",
    "def mean_tupla(tuplas):\n",
    "\n",
    "    promedio=tuple([np.mean(tuplas[index]) for index, value in enumerate(tuplas)])\n",
    "\n",
    "    print(promedio)\n",
    "\n",
    "mean_tupla(ejercicio6)\n"
   ]
  },
  {
   "attachments": {},
   "cell_type": "markdown",
   "metadata": {},
   "source": [
    "#### *Programa 7*"
   ]
  },
  {
   "cell_type": "code",
   "execution_count": 119,
   "metadata": {},
   "outputs": [
    {
     "name": "stdout",
     "output_type": "stream",
     "text": [
      "¿Qué desea hacer?\n",
      "1. Añadir factura\n",
      "2. Pagar factura existente\n",
      "3. Terminar transacción\n",
      "Factura añadida con éxito, el diccionario actual es: {'1234': 100, '5678': 200, '9123': 500, '5555': 350.0}\n",
      "---\n",
      "Esta pendiente de cobro: 1150.0\n",
      "Se ha cobrado: 0.0\n",
      "---\n",
      "Factura añadida con éxito, el diccionario actual es: {'1234': 100, '5678': 200, '9123': 500, '5555': 350.0, '6666': 400.0}\n",
      "---\n",
      "Esta pendiente de cobro: 1550.0\n",
      "Se ha cobrado: 0.0\n",
      "---\n",
      "Factura pagada con éxito, el diccionario actual es: {'1234': 100, '9123': 500, '5555': 350.0, '6666': 400.0}\n",
      "---\n",
      "Esta pendiente de cobro: 1350.0\n",
      "Se ha cobrado: 200\n",
      "---\n",
      "Transaccion invalida\n",
      "Transaccion invalida\n",
      "Se ha terminado la transacción\n",
      "Las Facturas actuales son: {'1234': 100, '9123': 500, '5555': 350.0, '6666': 400.0}\n",
      "Esta pendiente de cobro: 1350.0\n",
      "Se ha cobrado: 200\n"
     ]
    }
   ],
   "source": [
    "import numpy as np\n",
    "\n",
    "\n",
    "print(\"¿Qué desea hacer?\")\n",
    "print(\"1. Añadir factura\")\n",
    "print(\"2. Pagar factura existente\")\n",
    "print(\"3. Terminar transacción\")\n",
    "\n",
    "transaccion=0\n",
    "fin=3\n",
    "facturas={'1234':100,'5678':200,'9123':500}\n",
    "pendientes=[100,200,500]\n",
    "cobradas=[]\n",
    "\n",
    "while (True):\n",
    "\n",
    "    transaccion=int(input(\"Ingrese el número de la transacción:\"))\n",
    "    \n",
    "\n",
    "\n",
    "    if transaccion>=1 and transaccion<=3:\n",
    "\n",
    "        if(fin!=transaccion):\n",
    "                                              \n",
    "                \n",
    "                if transaccion==1:\n",
    "                    num1_factura=input(\"Ingrese el número de la factura (4 dígitos):\")\n",
    "                    costo_factura=float(input(\"Ingrese el costo de su factura:\"))\n",
    "                    facturas[num1_factura]=costo_factura\n",
    "                    pendientes.append(facturas[num1_factura])\n",
    "                    print(\"Factura añadida con éxito, el diccionario actual es:\",facturas)\n",
    "                    print(\"---\")\n",
    "\n",
    "                    \n",
    "\n",
    "                    print(\"Esta pendiente de cobro:\",np.sum(pendientes))\n",
    "                    print(\"Se ha cobrado:\",np.sum(cobradas))\n",
    "                    print(\"---\")\n",
    "\n",
    "\n",
    "                                \n",
    "                else: \n",
    "                    num2_factura=input(\"Ingrese el número de la factura (4 dígitos):\")\n",
    "                    cobradas.append(facturas[num2_factura])\n",
    "                    pendientes.remove(facturas[num2_factura])\n",
    "                    facturas.pop(num2_factura)\n",
    "                    print(\"Factura cobrada con éxito, el diccionario actual es:\",facturas)\n",
    "                    print(\"---\")\n",
    "\n",
    "\n",
    "                    print(\"Esta pendiente de cobro:\",np.sum(pendientes))\n",
    "                    print(\"Se ha cobrado:\",np.sum(cobradas))\n",
    "                    print(\"---\")\n",
    "             \n",
    "        else:\n",
    "            break\n",
    "    else:\n",
    "         print(\"Transaccion invalida\")\n",
    "\n",
    "print(\"Se ha terminado la transacción\")\n",
    "print(\"Las Facturas actuales son:\",facturas)\n",
    "print(\"Esta pendiente de cobro:\",np.sum(pendientes))\n",
    "print(\"Se ha cobrado:\",np.sum(cobradas))"
   ]
  }
 ],
 "metadata": {
  "kernelspec": {
   "display_name": "PythonClass",
   "language": "python",
   "name": "python3"
  },
  "language_info": {
   "codemirror_mode": {
    "name": "ipython",
    "version": 3
   },
   "file_extension": ".py",
   "mimetype": "text/x-python",
   "name": "python",
   "nbconvert_exporter": "python",
   "pygments_lexer": "ipython3",
   "version": "3.8.16"
  },
  "orig_nbformat": 4,
  "vscode": {
   "interpreter": {
    "hash": "0b7d893890be935e627c5e796305014a8bb53d6d781085016c1e9d06f1944ce4"
   }
  }
 },
 "nbformat": 4,
 "nbformat_minor": 2
}
