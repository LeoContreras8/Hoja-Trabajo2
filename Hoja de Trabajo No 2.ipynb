{
 "cells": [
  {
   "attachments": {},
   "cell_type": "markdown",
   "metadata": {},
   "source": [
    "###### Maestría Inteligencia de Negocios y Análisis de Datos\n",
    "###### Curso: Ciencia de Datos en Python\n",
    "###### Alumno: 22008375- Leonel Eduardo Contreras\n",
    "###### Sección L"
   ]
  },
  {
   "attachments": {},
   "cell_type": "markdown",
   "metadata": {},
   "source": [
    "### **Hoja de Trabajo # 2 - Sintaxis y Estructuras de Datos**"
   ]
  },
  {
   "attachments": {},
   "cell_type": "markdown",
   "metadata": {},
   "source": [
    "#### *Programa 1*"
   ]
  },
  {
   "cell_type": "code",
   "execution_count": 20,
   "metadata": {},
   "outputs": [
    {
     "name": "stdout",
     "output_type": "stream",
     "text": [
      "Horas: 1,Minutos: 37 ,Segundos: 51\n"
     ]
    }
   ],
   "source": [
    "while True:\n",
    "    try:\n",
    "        numero=int(input(\"Ingrese un número de segundos:\"))\n",
    "        ## Calcular los minutos ingresados en horas\n",
    "        Horas=numero//3600\n",
    "        ## Calcular los minutos ingresados en minutos faltantes\n",
    "        Minutos= int(((numero/3600)-Horas)*60)\n",
    "        ## Calcular los minutos ingresados en segundos faltantes\n",
    "        Segundos= round(((((numero/3600)-Horas)*60)-Minutos)*60)\n",
    "        ## Imprimir Horas, Minutos, Segundos\n",
    "        print(\"Horas: {},Minutos: {} ,Segundos: {}\".format(Horas,Minutos,Segundos))\n",
    "        break\n",
    "    except ValueError:\n",
    "        ## Imprimir mensaje de numero invalido\n",
    "        print(\"¡No es un número válido¡ Intenta ingresar enteros\")\n"
   ]
  },
  {
   "attachments": {},
   "cell_type": "markdown",
   "metadata": {},
   "source": [
    "#### *Programa 2*"
   ]
  },
  {
   "cell_type": "code",
   "execution_count": 5,
   "metadata": {},
   "outputs": [
    {
     "name": "stdout",
     "output_type": "stream",
     "text": [
      "*      ****      ****      *\n",
      "**      ***      ***      **\n",
      "***      **      **      ***\n",
      "****      *      *      ****\n"
     ]
    }
   ],
   "source": [
    "number=int(input(\"Ingrese un número entre 1 y 20:\"))\n",
    "caracter=input(\"Ingrese un carácter:\")\n",
    "\n",
    "def patron_triangulo(num,carac):\n",
    "    ## Valida si el rango ingresado esta entre 1 y 20\n",
    "    if(num>=1)and(num<=20):\n",
    "        inicio=1\n",
    "        repeticion=num\n",
    "        while(inicio<=num):\n",
    "            ## Imprime el patron de triangulos\n",
    "            print(carac*inicio,\"    \",carac*repeticion,\"    \",carac*repeticion,\"    \",carac*inicio)\n",
    "            ## Al iniciador le suma 1 en cada ciclo\n",
    "            inicio=inicio+1\n",
    "            ## Al repetidor le resta 1 en cada ciclo\n",
    "            repeticion=repeticion-1\n",
    "\n",
    "    else:\n",
    "        print(\"Tiene que ingresar un número entre 1 y 20\")\n",
    "\n",
    "patron_triangulo(number,caracter)\n",
    "    "
   ]
  },
  {
   "attachments": {},
   "cell_type": "markdown",
   "metadata": {},
   "source": [
    "#### *Programa 3*"
   ]
  },
  {
   "cell_type": "code",
   "execution_count": 36,
   "metadata": {},
   "outputs": [
    {
     "name": "stdout",
     "output_type": "stream",
     "text": [
      "Tienes  34  años con  0  meses y  29  días.\n"
     ]
    }
   ],
   "source": [
    "from datetime import datetime\n",
    "\n",
    "actual = datetime.today()\n",
    "\n",
    "año_actual=actual.year\n",
    "mes_actual=actual.month\n",
    "dia_actual=actual.day\n",
    "\n",
    "\n",
    "\n",
    "año=int(input(\"Ingrese el año de su nacimiento:\"))\n",
    "mes=int(input(\"Ingrese el mes de su nacimiento:\"))\n",
    "dia=int(input(\"Ingrese el dia de su nacimiento:\"))\n",
    "\n",
    "## Calcular edad en años\n",
    "if(mes>mes_actual):\n",
    "    edad_año=año_actual-año-1\n",
    "else:\n",
    "    edad_año=año_actual-año\n",
    "\n",
    " ## Calcular edad en meses\n",
    "if(mes>mes_actual) and (dia>dia_actual):\n",
    "    edad_mes=12-mes+mes_actual-1\n",
    "elif (mes>mes_actual)and(dia<dia_actual):\n",
    "    edad_mes=12-mes+mes_actual\n",
    "elif (mes<mes_actual)and(dia>dia_actual):\n",
    "    edad_mes=mes_actual-mes-1\n",
    "else:\n",
    "    edad_mes=mes_actual-mes\n",
    "\n",
    "## Calcular edad en dias\n",
    "if(dia>dia_actual):\n",
    "    edad_dia=30-dia+dia_actual\n",
    "else:\n",
    "    edad_dia=dia_actual-dia\n",
    "\n",
    "print(\"Tienes \",edad_año,\" años con \", edad_mes,\" meses y \",edad_dia,\" días.\")\n",
    "   \n",
    "\n"
   ]
  },
  {
   "attachments": {},
   "cell_type": "markdown",
   "metadata": {},
   "source": [
    "#### *Programa 4*"
   ]
  },
  {
   "cell_type": "code",
   "execution_count": 38,
   "metadata": {},
   "outputs": [
    {
     "name": "stdout",
     "output_type": "stream",
     "text": [
      "102040570\n"
     ]
    }
   ],
   "source": [
    "tupla=(10,20,40,5,70)\n",
    "\n",
    "## Funcion que recibe una tupla\n",
    "def convert_tupla(x):\n",
    "    string=''\n",
    "    for value in x:\n",
    "        ## Por cada valor de la tupla se concatena en la variable string, para esto convierte valor en string\n",
    "        string=string+str(value)\n",
    "    \n",
    "    print(string)   \n",
    "\n",
    "convert_tupla(tupla)"
   ]
  },
  {
   "attachments": {},
   "cell_type": "markdown",
   "metadata": {},
   "source": [
    "#### *Programa 5*"
   ]
  },
  {
   "cell_type": "code",
   "execution_count": 39,
   "metadata": {},
   "outputs": [
    {
     "name": "stdout",
     "output_type": "stream",
     "text": [
      "[('X',), ('a', 'b'), ('a', 'b', 'c'), 'd']\n"
     ]
    }
   ],
   "source": [
    "lista=[(),(),('X',),('a','b'),('a','b','c'),('d')]\n",
    "\n",
    "## Ciclo que recorre cada posicion de una lista\n",
    "for index,value in enumerate(lista):\n",
    "    ## Si cada posicion de la lista tiene una longitud de cero y el valor esta vacio, entra a eliminar el elemento de la lista y remover el valor\n",
    "    if (len(lista[index]))==0 and value==():\n",
    "      \n",
    "      del (lista[index])\n",
    "      lista.remove(())\n",
    "      \n",
    "print(lista)\n",
    "\n",
    "\n"
   ]
  },
  {
   "attachments": {},
   "cell_type": "markdown",
   "metadata": {},
   "source": [
    "#### *Programa 6*"
   ]
  },
  {
   "cell_type": "code",
   "execution_count": 40,
   "metadata": {},
   "outputs": [
    {
     "name": "stdout",
     "output_type": "stream",
     "text": [
      "(10.5, 44.0, 58.0)\n"
     ]
    }
   ],
   "source": [
    "import numpy as np\n",
    "\n",
    "ejercicio6=((10,10,10,12),(30,45,56,45),(81,80,39,32))\n",
    "\n",
    "## Funcion que recibe una tupla de parametro\n",
    "def mean_tupla(tuplas):\n",
    "    ## Obtiene con list comprehension el promedio de cada posicion y la convierte nuevamente a tupla\n",
    "    promedio=tuple([np.mean(tuplas[index]) for index, value in enumerate(tuplas)])\n",
    "    ## Imprime el promedio de las tuplas de la tupla\n",
    "    print(promedio)\n",
    "\n",
    "mean_tupla(ejercicio6)\n"
   ]
  },
  {
   "attachments": {},
   "cell_type": "markdown",
   "metadata": {},
   "source": [
    "#### *Programa 7*"
   ]
  },
  {
   "cell_type": "code",
   "execution_count": 119,
   "metadata": {},
   "outputs": [
    {
     "name": "stdout",
     "output_type": "stream",
     "text": [
      "¿Qué desea hacer?\n",
      "1. Añadir factura\n",
      "2. Pagar factura existente\n",
      "3. Terminar transacción\n",
      "Factura añadida con éxito, el diccionario actual es: {'1234': 100, '5678': 200, '9123': 500, '5555': 350.0}\n",
      "---\n",
      "Esta pendiente de cobro: 1150.0\n",
      "Se ha cobrado: 0.0\n",
      "---\n",
      "Factura añadida con éxito, el diccionario actual es: {'1234': 100, '5678': 200, '9123': 500, '5555': 350.0, '6666': 400.0}\n",
      "---\n",
      "Esta pendiente de cobro: 1550.0\n",
      "Se ha cobrado: 0.0\n",
      "---\n",
      "Factura pagada con éxito, el diccionario actual es: {'1234': 100, '9123': 500, '5555': 350.0, '6666': 400.0}\n",
      "---\n",
      "Esta pendiente de cobro: 1350.0\n",
      "Se ha cobrado: 200\n",
      "---\n",
      "Transaccion invalida\n",
      "Transaccion invalida\n",
      "Se ha terminado la transacción\n",
      "Las Facturas actuales son: {'1234': 100, '9123': 500, '5555': 350.0, '6666': 400.0}\n",
      "Esta pendiente de cobro: 1350.0\n",
      "Se ha cobrado: 200\n"
     ]
    }
   ],
   "source": [
    "import numpy as np\n",
    "\n",
    "\n",
    "print(\"¿Qué desea hacer?\")\n",
    "print(\"1. Añadir factura\")\n",
    "print(\"2. Pagar factura existente\")\n",
    "print(\"3. Terminar transacción\")\n",
    "\n",
    "## Definicion de variables iniciales\n",
    "transaccion=0\n",
    "fin=3\n",
    "facturas={'1234':100,'5678':200,'9123':500}\n",
    "pendientes=[100,200,500]\n",
    "cobradas=[]\n",
    "\n",
    "## Ciclo que continua mientras no se ingrese la opcion 3-Terminar Transaccion\n",
    "while (True):\n",
    "\n",
    "    transaccion=int(input(\"Ingrese el número de la transacción:\"))\n",
    "    \n",
    "\n",
    "    ## Valida si se ingresa un numero entre 1 y 3, sino devuleve mensaje de transaccion invalida\n",
    "    if transaccion>=1 and transaccion<=3:\n",
    "        ## Mientras no se ingrese 3, se corre el programa para ingresar o pagar factura\n",
    "        if(fin!=transaccion):\n",
    "                                              \n",
    "                ## Si se ingresa 1, corre programa para ingresar factura\n",
    "                if transaccion==1:\n",
    "                    num1_factura=input(\"Ingrese el número de la factura (4 dígitos):\")\n",
    "                    costo_factura=float(input(\"Ingrese el costo de su factura:\"))\n",
    "                    ## Se agrega al diccionario facturas, la clave y su monto\n",
    "                    facturas[num1_factura]=costo_factura\n",
    "                    ## Se agrega a la lista pendientes el costo de la factura nueva\n",
    "                    pendientes.append(facturas[num1_factura])\n",
    "                    ## Se imprime el diccionario actualizado\n",
    "                    print(\"Factura añadida con éxito, el diccionario actual es:\",facturas)\n",
    "                    print(\"---\")\n",
    "\n",
    "                    \n",
    "                    ## Se imprime la suma de la lista pendientes\n",
    "                    print(\"Esta pendiente de cobro:\",np.sum(pendientes))\n",
    "                    ## Se imprime la suma de la lista cobradas\n",
    "                    print(\"Se ha cobrado:\",np.sum(cobradas))\n",
    "                    print(\"---\")\n",
    "\n",
    "\n",
    "                ## Si se ingresa 2, corre programa para pagar factura              \n",
    "                else: \n",
    "                    num2_factura=input(\"Ingrese el número de la factura (4 dígitos):\")\n",
    "                    ## Se agrega a la lista cobradas el monto de la factura que se ha cobrado\n",
    "                    cobradas.append(facturas[num2_factura])\n",
    "                    ## Se elimina de la lista pendientes el monto de la factura que se ha cobrado\n",
    "                    pendientes.remove(facturas[num2_factura])\n",
    "                    ## Se elimina del diccionario de facturas, el elemento cobrado\n",
    "                    facturas.pop(num2_factura)\n",
    "                    print(\"Factura cobrada con éxito, el diccionario actual es:\",facturas)\n",
    "                    print(\"---\")\n",
    "\n",
    "                    ## Se imprime la suma de la lista pendientes\n",
    "                    print(\"Esta pendiente de cobro:\",np.sum(pendientes))\n",
    "                    ## Se imprime la suma de la lista cobradas\n",
    "                    print(\"Se ha cobrado:\",np.sum(cobradas))\n",
    "                    print(\"---\")\n",
    "             \n",
    "        else:\n",
    "            break\n",
    "    else:\n",
    "         print(\"Transaccion invalida\")\n",
    "## Se imprime el estatus del diccionario, pendientes y cobradas\n",
    "print(\"Se ha terminado la transacción\")\n",
    "print(\"Las Facturas actuales son:\",facturas)\n",
    "print(\"Esta pendiente de cobro:\",np.sum(pendientes))\n",
    "print(\"Se ha cobrado:\",np.sum(cobradas))"
   ]
  },
  {
   "attachments": {},
   "cell_type": "markdown",
   "metadata": {},
   "source": [
    "#### *Programa 8*"
   ]
  },
  {
   "cell_type": "code",
   "execution_count": 128,
   "metadata": {},
   "outputs": [
    {
     "name": "stdout",
     "output_type": "stream",
     "text": [
      "Baraja: {'C12', 'E4', 'T9', 'T1', 'C7', 'C8', 'P5', 'T13', 'T6', 'C10', 'P13', 'C1', 'P1', 'P8', 'T4', 'C13', 'P9', 'E10', 'C2', 'C9', 'E13', 'E5', 'C4', 'T3', 'P10', 'C11', 'P12', 'T12', 'T7', 'P2', 'E6', 'E12', 'E1', 'T5', 'T2', 'P4', 'E2', 'P3', 'E11', 'C3', 'P7', 'E3', 'T8', 'C6', 'T10', 'E8', 'C5', 'P11', 'E9', 'E7', 'T11', 'P6'}\n",
      "-----\n",
      "El set 1 es: {'C12', 'E4', 'T9', 'T1', 'C8', 'P5', 'T6', 'P13', 'C10', 'T13', 'C1', 'P1', 'P8', 'C13', 'E10', 'P9', 'T4', 'C2', 'C9', 'E13', 'E5', 'C4', 'T3', 'P12', 'C11', 'P10', 'T12', 'T7', 'P2', 'E6', 'E12', 'E1', 'T5', 'T2', 'P4', 'E2', 'P3', 'E11', 'C3', 'P7', 'T8', 'C6', 'T10', 'E8', 'P11', 'E9', 'E7', 'T11', 'P6'}\n",
      "El set 2 es: {'C12', 'E4', 'T9', 'C7', 'P5', 'T13', 'P13', 'C10', 'T6', 'C1', 'P8', 'C13', 'E10', 'P9', 'C2', 'E13', 'C9', 'C4', 'T3', 'P12', 'P10', 'C11', 'T12', 'T7', 'P2', 'E1', 'T2', 'P4', 'E2', 'P3', 'C3', 'P7', 'E3', 'C6', 'T10', 'E8', 'C5', 'P11', 'E9', 'E7', 'T11'}\n",
      "La interseccion de los set es: {'C12', 'E4', 'T9', 'P5', 'C10', 'T6', 'T13', 'P13', 'C1', 'P8', 'C13', 'E10', 'P9', 'C2', 'E13', 'C9', 'C4', 'T3', 'P12', 'P10', 'C11', 'T12', 'T7', 'P2', 'E1', 'T2', 'P4', 'E2', 'P3', 'C3', 'P7', 'C6', 'T10', 'E8', 'P11', 'E9', 'E7', 'T11'}\n",
      "La union de los set es: {'T1', 'C7', 'C10', 'P1', 'C13', 'T4', 'C2', 'E5', 'C4', 'T3', 'P12', 'C11', 'T7', 'P2', 'E6', 'E12', 'E1', 'T5', 'P3', 'E11', 'C3', 'E3', 'C6', 'P11', 'C12', 'E4', 'T9', 'C8', 'P5', 'T6', 'P13', 'T13', 'C1', 'P8', 'E10', 'P9', 'C9', 'E13', 'P10', 'T12', 'T2', 'P4', 'E2', 'P7', 'T8', 'T10', 'E8', 'C5', 'E9', 'E7', 'T11', 'P6'}\n",
      "--------\n",
      "La probabilidad del set 1 es: 0.9423076923076923\n",
      "La probabilidad del set 2 es: 0.7884615384615384\n",
      "La probabilidad del la interseccion es: 0.7307692307692307\n",
      "La probabilidad de Set 1 dado Set2 es : 0.7755102040816326\n",
      "La probabilidad de Set 2 dado Set1 es : 0.9268292682926829\n",
      "--------\n",
      "El set 1 es dependiente del set 2\n",
      "El set 2 es dependiente del set 1\n",
      "--------\n",
      "La probabilidad de la union con regla de adicion es: 1.0  y es igual a la probabilidad de la union calculada directamente: 1.0\n",
      "None\n"
     ]
    }
   ],
   "source": [
    "import random\n",
    "\n",
    "##Funcion que crea set de todas las cartas de una baraja de Pocker\n",
    "def set_baraja():\n",
    "\n",
    "    tipo= ['T','C','P','E']\n",
    "    numero= [1,2,3,4,5,6,7,8,9,10,11,12,13]\n",
    "    baraja=set()\n",
    "    ## Por cada valor de tipo y cada valor de numero se concatenan en la variable carta y se agregan al set baraja\n",
    "    for t in tipo:\n",
    "        for n in numero:\n",
    "            carta= t+str(n)\n",
    "            baraja.add(carta)\n",
    "    return baraja\n",
    "\n",
    "\n",
    "\n",
    "\n",
    "##Funcion que crea dos conjuntos de cartas de baraja y calcula probabilidades\n",
    "\n",
    "def nuevo_set():\n",
    "    cartas= set_baraja()\n",
    "    ## Se genera un el primer subconjunto del set de barajas, de forma aleatoria   \n",
    "    set1=set(random.sample(cartas,random.randint(1,52)))\n",
    "    ## Se genera un el segundo subconjunto del set de barajas, de forma aleatoria   \n",
    "    set2=set(random.sample(cartas,random.randint(1,52)))\n",
    "\n",
    "    ## Probabilidad de cada set\n",
    "    prob_set1=len(set1)/52\n",
    "    prob_set2=len(set2)/52\n",
    "\n",
    "    ## Se obtiene la intesaccion y union de los dos set\n",
    "    interseccion_set=set1.intersection(set2)\n",
    "    union_set=set1.union(set2)\n",
    "\n",
    "    ## Se obtiene la probalbidad de la interseccion y la union(directamente con la cardinalidad) \n",
    "    prob_inteseccion=len(interseccion_set)/52\n",
    "    prob_union1=len(union_set)/52\n",
    "\n",
    "    ## Se obtiene la probabilidad condicional de los set\n",
    "    prob_set1_dado_set2=prob_inteseccion/prob_set1\n",
    "    prob_set2_dado_set1=prob_inteseccion/prob_set2\n",
    "    ## Se obtiene la probabilidad de la union con la regla de la suma\n",
    "    prob_union2=prob_set1+prob_set2-prob_inteseccion\n",
    "\n",
    "    ## Imprime el resumen de las variables definidas anteriormente\n",
    "    print(\"El set 1 es:\",set1)\n",
    "    print(\"El set 2 es:\",set2)\n",
    "    print(\"La interseccion de los set es:\",interseccion_set)\n",
    "    print(\"La union de los set es:\",union_set)\n",
    "    print(\"--------\")\n",
    "    print(\"La probabilidad del set 1 es:\",prob_set1)\n",
    "    print(\"La probabilidad del set 2 es:\", prob_set2)\n",
    "    print(\"La probabilidad del la interseccion es:\", prob_inteseccion)\n",
    "    print(\"La probabilidad de Set 1 dado Set2 es :\", prob_set1_dado_set2)\n",
    "    print(\"La probabilidad de Set 2 dado Set1 es :\", prob_set2_dado_set1)\n",
    "    print(\"--------\")\n",
    "    ## Valida si los set son independientes con la regla del producto\n",
    "    if prob_set1_dado_set2 == prob_set1 :\n",
    "        print(\"El set 1 es independiente del set 2\")\n",
    "    else:\n",
    "        print(\"El set 1 es dependiente del set 2\")\n",
    "    ## Valida si los set son independientes con la regla del producto\n",
    "    if prob_set2_dado_set1 == prob_set2 :\n",
    "        print(\"El set 2 es independiente del set 1\")\n",
    "    else:\n",
    "        print(\"El set 2 es dependiente del set 1\")\n",
    "    ## Imprime la comparacion de la union, con la regla de la suma y de la forma directa (por cardinalidad)\n",
    "    print(\"--------\")   \n",
    "    print(\"La probabilidad de la union con regla de adicion es:\",prob_union2,\n",
    "        \" y es igual a la probabilidad de la union calculada directamente:\", prob_union1)\n",
    "\n",
    "\n",
    "print(\"Baraja:\",set_baraja())\n",
    "print(\"-----\")\n",
    "print(nuevo_set())\n",
    "\n",
    "\n",
    "\n",
    "\n",
    "\n",
    "\n",
    "\n",
    "\n",
    "\n",
    "\n",
    "\n"
   ]
  }
 ],
 "metadata": {
  "kernelspec": {
   "display_name": "PythonClass",
   "language": "python",
   "name": "python3"
  },
  "language_info": {
   "codemirror_mode": {
    "name": "ipython",
    "version": 3
   },
   "file_extension": ".py",
   "mimetype": "text/x-python",
   "name": "python",
   "nbconvert_exporter": "python",
   "pygments_lexer": "ipython3",
   "version": "3.8.16"
  },
  "orig_nbformat": 4,
  "vscode": {
   "interpreter": {
    "hash": "0b7d893890be935e627c5e796305014a8bb53d6d781085016c1e9d06f1944ce4"
   }
  }
 },
 "nbformat": 4,
 "nbformat_minor": 2
}
